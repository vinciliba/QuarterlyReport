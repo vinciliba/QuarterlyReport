{
 "cells": [
  {
   "cell_type": "code",
   "execution_count": 1,
   "id": "b01a54ff",
   "metadata": {},
   "outputs": [
    {
     "data": {
      "text/html": [
       "<div>\n",
       "<style scoped>\n",
       "    .dataframe tbody tr th:only-of-type {\n",
       "        vertical-align: middle;\n",
       "    }\n",
       "\n",
       "    .dataframe tbody tr th {\n",
       "        vertical-align: top;\n",
       "    }\n",
       "\n",
       "    .dataframe thead th {\n",
       "        text-align: right;\n",
       "    }\n",
       "</style>\n",
       "<table border=\"1\" class=\"dataframe\">\n",
       "  <thead>\n",
       "    <tr style=\"text-align: right;\">\n",
       "      <th></th>\n",
       "      <th>id</th>\n",
       "      <th>filename</th>\n",
       "      <th>table_name</th>\n",
       "      <th>uploaded_at</th>\n",
       "      <th>rows</th>\n",
       "      <th>cols</th>\n",
       "      <th>report_name</th>\n",
       "      <th>table_alias</th>\n",
       "    </tr>\n",
       "  </thead>\n",
       "  <tbody>\n",
       "    <tr>\n",
       "      <th>0</th>\n",
       "      <td>6</td>\n",
       "      <td>C0_Budgetary_Execution_Details.xlsx</td>\n",
       "      <td>raw_c0_budgetary_execution_details</td>\n",
       "      <td>2025-05-05T08:46:12.127187</td>\n",
       "      <td>43</td>\n",
       "      <td>25</td>\n",
       "      <td>Quarterly_Report</td>\n",
       "      <td>c0_budgetary_execution_details</td>\n",
       "    </tr>\n",
       "  </tbody>\n",
       "</table>\n",
       "</div>"
      ],
      "text/plain": [
       "   id                             filename  \\\n",
       "0   6  C0_Budgetary_Execution_Details.xlsx   \n",
       "\n",
       "                           table_name                 uploaded_at  rows  cols  \\\n",
       "0  raw_c0_budgetary_execution_details  2025-05-05T08:46:12.127187    43    25   \n",
       "\n",
       "        report_name                     table_alias  \n",
       "0  Quarterly_Report  c0_budgetary_execution_details  "
      ]
     },
     "execution_count": 1,
     "metadata": {},
     "output_type": "execute_result"
    }
   ],
   "source": [
    "import pandas as pd\n",
    "import sqlite3\n",
    "\n",
    "conn = sqlite3.connect(\"database/reporting.db\")\n",
    "log_df = pd.read_sql_query(\"SELECT * FROM upload_log WHERE table_alias = 'c0_budgetary_execution_details'\", conn)\n",
    "log_df"
   ]
  },
  {
   "cell_type": "code",
   "execution_count": null,
   "id": "1b943edc",
   "metadata": {},
   "outputs": [],
   "source": []
  }
 ],
 "metadata": {
  "kernelspec": {
   "display_name": "Python 3",
   "language": "python",
   "name": "python3"
  },
  "language_info": {
   "codemirror_mode": {
    "name": "ipython",
    "version": 3
   },
   "file_extension": ".py",
   "mimetype": "text/x-python",
   "name": "python",
   "nbconvert_exporter": "python",
   "pygments_lexer": "ipython3",
   "version": "3.12.1"
  }
 },
 "nbformat": 4,
 "nbformat_minor": 5
}
